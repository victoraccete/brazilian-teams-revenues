{
  "nbformat": 4,
  "nbformat_minor": 0,
  "metadata": {
    "colab": {
      "name": "Brazilian teams analysis.ipynb",
      "provenance": [],
      "collapsed_sections": [],
      "authorship_tag": "ABX9TyNpDtqDEjT+FJYGEKuv6dX8",
      "include_colab_link": true
    },
    "kernelspec": {
      "name": "python3",
      "display_name": "Python 3"
    }
  },
  "cells": [
    {
      "cell_type": "markdown",
      "metadata": {
        "id": "view-in-github",
        "colab_type": "text"
      },
      "source": [
        "<a href=\"https://colab.research.google.com/github/victoraccete/brazilian-teams-revenues/blob/main/Brazilian_teams_analysis.ipynb\" target=\"_parent\"><img src=\"https://colab.research.google.com/assets/colab-badge.svg\" alt=\"Open In Colab\"/></a>"
      ]
    },
    {
      "cell_type": "code",
      "metadata": {
        "id": "2htoGQ8LsjzP"
      },
      "source": [
        "import pandas as pd\n",
        "import re"
      ],
      "execution_count": 17,
      "outputs": []
    },
    {
      "cell_type": "code",
      "metadata": {
        "id": "uCGeEDfBsu3j",
        "outputId": "0fec074b-a08b-463e-a171-9f1df98cfe97",
        "colab": {
          "base_uri": "https://localhost:8080/",
          "height": 419
        }
      },
      "source": [
        "URL = 'https://raw.githubusercontent.com/victoraccete/brazilian-teams-revenues/main/dataset/2007-2019.csv'\n",
        "def load_data(URL):\n",
        "    df = pd.read_csv(URL)\n",
        "    df = df.drop(columns=['Posição', 'Deficit ou Superavit'])\n",
        "    return df\n",
        "df = load_data(URL)\n",
        "df"
      ],
      "execution_count": 18,
      "outputs": [
        {
          "output_type": "execute_result",
          "data": {
            "text/html": [
              "<div>\n",
              "<style scoped>\n",
              "    .dataframe tbody tr th:only-of-type {\n",
              "        vertical-align: middle;\n",
              "    }\n",
              "\n",
              "    .dataframe tbody tr th {\n",
              "        vertical-align: top;\n",
              "    }\n",
              "\n",
              "    .dataframe thead th {\n",
              "        text-align: right;\n",
              "    }\n",
              "</style>\n",
              "<table border=\"1\" class=\"dataframe\">\n",
              "  <thead>\n",
              "    <tr style=\"text-align: right;\">\n",
              "      <th></th>\n",
              "      <th>Clube</th>\n",
              "      <th>Estado</th>\n",
              "      <th>Faturamento</th>\n",
              "      <th>Ano</th>\n",
              "    </tr>\n",
              "  </thead>\n",
              "  <tbody>\n",
              "    <tr>\n",
              "      <th>0</th>\n",
              "      <td>Flamengo</td>\n",
              "      <td>Rio de Janeiro</td>\n",
              "      <td>R$ 950,0 Milhões[1]</td>\n",
              "      <td>2019</td>\n",
              "    </tr>\n",
              "    <tr>\n",
              "      <th>1</th>\n",
              "      <td>Palmeiras</td>\n",
              "      <td>São Paulo</td>\n",
              "      <td>R$ 665,5 Milhões[2]</td>\n",
              "      <td>2019</td>\n",
              "    </tr>\n",
              "    <tr>\n",
              "      <th>2</th>\n",
              "      <td>Grêmio</td>\n",
              "      <td>Rio Grande do Sul</td>\n",
              "      <td>R$ 459,3 Milhões[3]</td>\n",
              "      <td>2019</td>\n",
              "    </tr>\n",
              "    <tr>\n",
              "      <th>3</th>\n",
              "      <td>Internacional</td>\n",
              "      <td>Rio Grande do Sul</td>\n",
              "      <td>R$ 441,0 Milhões[4]</td>\n",
              "      <td>2019</td>\n",
              "    </tr>\n",
              "    <tr>\n",
              "      <th>4</th>\n",
              "      <td>Corinthians</td>\n",
              "      <td>São Paulo</td>\n",
              "      <td>R$ 425,7 Milhões[5]</td>\n",
              "      <td>2019</td>\n",
              "    </tr>\n",
              "    <tr>\n",
              "      <th>...</th>\n",
              "      <td>...</td>\n",
              "      <td>...</td>\n",
              "      <td>...</td>\n",
              "      <td>...</td>\n",
              "    </tr>\n",
              "    <tr>\n",
              "      <th>151</th>\n",
              "      <td>Atlético Mineiro</td>\n",
              "      <td>Minas Gerais</td>\n",
              "      <td>R$ 58,3 Milhões[114][116]</td>\n",
              "      <td>2007</td>\n",
              "    </tr>\n",
              "    <tr>\n",
              "      <th>152</th>\n",
              "      <td>Santos</td>\n",
              "      <td>São Paulo</td>\n",
              "      <td>R$ 53,1 Milhões[114][115][116]</td>\n",
              "      <td>2007</td>\n",
              "    </tr>\n",
              "    <tr>\n",
              "      <th>153</th>\n",
              "      <td>Vasco</td>\n",
              "      <td>Rio de Janeiro</td>\n",
              "      <td>R$ 51,0 Milhões[114][116]</td>\n",
              "      <td>2007</td>\n",
              "    </tr>\n",
              "    <tr>\n",
              "      <th>154</th>\n",
              "      <td>Botafogo</td>\n",
              "      <td>Rio de Janeiro</td>\n",
              "      <td>R$ 41,1 Milhões[114]</td>\n",
              "      <td>2007</td>\n",
              "    </tr>\n",
              "    <tr>\n",
              "      <th>155</th>\n",
              "      <td>Fluminense</td>\n",
              "      <td>Rio de Janeiro</td>\n",
              "      <td>R$ 39,3 Milhões[114]</td>\n",
              "      <td>2007</td>\n",
              "    </tr>\n",
              "  </tbody>\n",
              "</table>\n",
              "<p>156 rows × 4 columns</p>\n",
              "</div>"
            ],
            "text/plain": [
              "                Clube             Estado                     Faturamento   Ano\n",
              "0            Flamengo     Rio de Janeiro             R$ 950,0 Milhões[1]  2019\n",
              "1           Palmeiras          São Paulo             R$ 665,5 Milhões[2]  2019\n",
              "2              Grêmio  Rio Grande do Sul             R$ 459,3 Milhões[3]  2019\n",
              "3       Internacional  Rio Grande do Sul             R$ 441,0 Milhões[4]  2019\n",
              "4         Corinthians          São Paulo             R$ 425,7 Milhões[5]  2019\n",
              "..                ...                ...                             ...   ...\n",
              "151  Atlético Mineiro       Minas Gerais       R$ 58,3 Milhões[114][116]  2007\n",
              "152            Santos          São Paulo  R$ 53,1 Milhões[114][115][116]  2007\n",
              "153             Vasco     Rio de Janeiro       R$ 51,0 Milhões[114][116]  2007\n",
              "154          Botafogo     Rio de Janeiro            R$ 41,1 Milhões[114]  2007\n",
              "155        Fluminense     Rio de Janeiro            R$ 39,3 Milhões[114]  2007\n",
              "\n",
              "[156 rows x 4 columns]"
            ]
          },
          "metadata": {
            "tags": []
          },
          "execution_count": 18
        }
      ]
    },
    {
      "cell_type": "code",
      "metadata": {
        "id": "76x2jWqMxFvZ",
        "outputId": "5c4fcefa-4566-4663-ea3e-1f8a4e5ea83f",
        "colab": {
          "base_uri": "https://localhost:8080/",
          "height": 204
        }
      },
      "source": [
        "df.info()"
      ],
      "execution_count": 19,
      "outputs": [
        {
          "output_type": "stream",
          "text": [
            "<class 'pandas.core.frame.DataFrame'>\n",
            "RangeIndex: 156 entries, 0 to 155\n",
            "Data columns (total 4 columns):\n",
            " #   Column       Non-Null Count  Dtype \n",
            "---  ------       --------------  ----- \n",
            " 0   Clube        156 non-null    object\n",
            " 1   Estado       156 non-null    object\n",
            " 2   Faturamento  156 non-null    object\n",
            " 3   Ano          156 non-null    int64 \n",
            "dtypes: int64(1), object(3)\n",
            "memory usage: 5.0+ KB\n"
          ],
          "name": "stdout"
        }
      ]
    },
    {
      "cell_type": "code",
      "metadata": {
        "id": "nfR9vpTvHyLQ",
        "outputId": "8225cd2d-7c32-4ba8-a531-c27ca478ce6c",
        "colab": {
          "base_uri": "https://localhost:8080/",
          "height": 238
        }
      },
      "source": [
        "df['Clube'].value_counts()"
      ],
      "execution_count": 20,
      "outputs": [
        {
          "output_type": "execute_result",
          "data": {
            "text/plain": [
              "Santos              13\n",
              "Grêmio              13\n",
              "Corinthians         13\n",
              "Atlético Mineiro    13\n",
              "Flamengo            13\n",
              "Fluminense          13\n",
              "Internacional       13\n",
              "Palmeiras           13\n",
              "Vasco               13\n",
              "São Paulo           13\n",
              "Cruzeiro            13\n",
              "Botafogo            13\n",
              "Name: Clube, dtype: int64"
            ]
          },
          "metadata": {
            "tags": []
          },
          "execution_count": 20
        }
      ]
    },
    {
      "cell_type": "code",
      "metadata": {
        "id": "LsFHTSH4y-Q7",
        "outputId": "4561ac05-71ef-4d59-bcbc-0cacbd78cdbe",
        "colab": {
          "base_uri": "https://localhost:8080/",
          "height": 204
        }
      },
      "source": [
        "df.Ano = pd.to_datetime(df.Ano, format=\"%Y\")\n",
        "df.info()"
      ],
      "execution_count": 21,
      "outputs": [
        {
          "output_type": "stream",
          "text": [
            "<class 'pandas.core.frame.DataFrame'>\n",
            "RangeIndex: 156 entries, 0 to 155\n",
            "Data columns (total 4 columns):\n",
            " #   Column       Non-Null Count  Dtype         \n",
            "---  ------       --------------  -----         \n",
            " 0   Clube        156 non-null    object        \n",
            " 1   Estado       156 non-null    object        \n",
            " 2   Faturamento  156 non-null    object        \n",
            " 3   Ano          156 non-null    datetime64[ns]\n",
            "dtypes: datetime64[ns](1), object(3)\n",
            "memory usage: 5.0+ KB\n"
          ],
          "name": "stdout"
        }
      ]
    },
    {
      "cell_type": "code",
      "metadata": {
        "id": "VgE7Bc8h0PKo"
      },
      "source": [
        "def clean_currency(t: str) -> str:\n",
        "    t = re.sub(\"\\[.*\\]\", \"\", t) # removes any value between [ and ].\n",
        "    t = re.sub('.?[a-zA-Z].?', \"\", t) # removing letters from end and beginning\n",
        "    t = t.strip().replace(',', '.') # removes whitespace and replaces comma\n",
        "    return t\n",
        "\n",
        "t = \"R$ 51,0 Milhões[114][116]\"\n",
        "assert clean_currency(t) == '51.0'"
      ],
      "execution_count": 22,
      "outputs": []
    },
    {
      "cell_type": "code",
      "metadata": {
        "id": "e4SPKPjPyDOe",
        "outputId": "c6388b59-4153-4951-8ead-b0e3956de2ee",
        "colab": {
          "base_uri": "https://localhost:8080/",
          "height": 204
        }
      },
      "source": [
        "def fix_currency_col(series):\n",
        "    \"\"\"gets a messy column and make it a float column\"\"\"\n",
        "    # using lambda to pass the value from the series as argumento to clean_currency\n",
        "    series = series.apply(lambda x: clean_currency(x))\n",
        "    return series.astype('float')\n",
        "\n",
        "df['Faturamento'] = fix_currency_col(df['Faturamento'])\n",
        "df.info()"
      ],
      "execution_count": 23,
      "outputs": [
        {
          "output_type": "stream",
          "text": [
            "<class 'pandas.core.frame.DataFrame'>\n",
            "RangeIndex: 156 entries, 0 to 155\n",
            "Data columns (total 4 columns):\n",
            " #   Column       Non-Null Count  Dtype         \n",
            "---  ------       --------------  -----         \n",
            " 0   Clube        156 non-null    object        \n",
            " 1   Estado       156 non-null    object        \n",
            " 2   Faturamento  156 non-null    float64       \n",
            " 3   Ano          156 non-null    datetime64[ns]\n",
            "dtypes: datetime64[ns](1), float64(1), object(2)\n",
            "memory usage: 5.0+ KB\n"
          ],
          "name": "stdout"
        }
      ]
    },
    {
      "cell_type": "code",
      "metadata": {
        "id": "tKVquPZlBvyX",
        "outputId": "80dc0551-d685-40b2-b572-533c3a9e089a",
        "colab": {
          "base_uri": "https://localhost:8080/",
          "height": 204
        }
      },
      "source": [
        "df.head()"
      ],
      "execution_count": 24,
      "outputs": [
        {
          "output_type": "execute_result",
          "data": {
            "text/html": [
              "<div>\n",
              "<style scoped>\n",
              "    .dataframe tbody tr th:only-of-type {\n",
              "        vertical-align: middle;\n",
              "    }\n",
              "\n",
              "    .dataframe tbody tr th {\n",
              "        vertical-align: top;\n",
              "    }\n",
              "\n",
              "    .dataframe thead th {\n",
              "        text-align: right;\n",
              "    }\n",
              "</style>\n",
              "<table border=\"1\" class=\"dataframe\">\n",
              "  <thead>\n",
              "    <tr style=\"text-align: right;\">\n",
              "      <th></th>\n",
              "      <th>Clube</th>\n",
              "      <th>Estado</th>\n",
              "      <th>Faturamento</th>\n",
              "      <th>Ano</th>\n",
              "    </tr>\n",
              "  </thead>\n",
              "  <tbody>\n",
              "    <tr>\n",
              "      <th>0</th>\n",
              "      <td>Flamengo</td>\n",
              "      <td>Rio de Janeiro</td>\n",
              "      <td>950.0</td>\n",
              "      <td>2019-01-01</td>\n",
              "    </tr>\n",
              "    <tr>\n",
              "      <th>1</th>\n",
              "      <td>Palmeiras</td>\n",
              "      <td>São Paulo</td>\n",
              "      <td>665.5</td>\n",
              "      <td>2019-01-01</td>\n",
              "    </tr>\n",
              "    <tr>\n",
              "      <th>2</th>\n",
              "      <td>Grêmio</td>\n",
              "      <td>Rio Grande do Sul</td>\n",
              "      <td>459.3</td>\n",
              "      <td>2019-01-01</td>\n",
              "    </tr>\n",
              "    <tr>\n",
              "      <th>3</th>\n",
              "      <td>Internacional</td>\n",
              "      <td>Rio Grande do Sul</td>\n",
              "      <td>441.0</td>\n",
              "      <td>2019-01-01</td>\n",
              "    </tr>\n",
              "    <tr>\n",
              "      <th>4</th>\n",
              "      <td>Corinthians</td>\n",
              "      <td>São Paulo</td>\n",
              "      <td>425.7</td>\n",
              "      <td>2019-01-01</td>\n",
              "    </tr>\n",
              "  </tbody>\n",
              "</table>\n",
              "</div>"
            ],
            "text/plain": [
              "           Clube             Estado  Faturamento        Ano\n",
              "0       Flamengo     Rio de Janeiro        950.0 2019-01-01\n",
              "1      Palmeiras          São Paulo        665.5 2019-01-01\n",
              "2         Grêmio  Rio Grande do Sul        459.3 2019-01-01\n",
              "3  Internacional  Rio Grande do Sul        441.0 2019-01-01\n",
              "4    Corinthians          São Paulo        425.7 2019-01-01"
            ]
          },
          "metadata": {
            "tags": []
          },
          "execution_count": 24
        }
      ]
    },
    {
      "cell_type": "markdown",
      "metadata": {
        "id": "_DqYUFDKwwo3"
      },
      "source": [
        "### Questão de pesquisa:\n",
        "Como as receitas do Flamengo se comparam com as receitas dos demais 3 grandes clubes do Rio de Janeiro ao longo dos anos?"
      ]
    },
    {
      "cell_type": "code",
      "metadata": {
        "id": "ju8O7MnLCDiV",
        "outputId": "c12b7f09-d6a1-4db6-a8fd-c61802b88810",
        "colab": {
          "base_uri": "https://localhost:8080/",
          "height": 173
        }
      },
      "source": [
        "rj_df = df[df.Estado == 'Rio de Janeiro']\n",
        "rj_df.head(4)"
      ],
      "execution_count": 25,
      "outputs": [
        {
          "output_type": "execute_result",
          "data": {
            "text/html": [
              "<div>\n",
              "<style scoped>\n",
              "    .dataframe tbody tr th:only-of-type {\n",
              "        vertical-align: middle;\n",
              "    }\n",
              "\n",
              "    .dataframe tbody tr th {\n",
              "        vertical-align: top;\n",
              "    }\n",
              "\n",
              "    .dataframe thead th {\n",
              "        text-align: right;\n",
              "    }\n",
              "</style>\n",
              "<table border=\"1\" class=\"dataframe\">\n",
              "  <thead>\n",
              "    <tr style=\"text-align: right;\">\n",
              "      <th></th>\n",
              "      <th>Clube</th>\n",
              "      <th>Estado</th>\n",
              "      <th>Faturamento</th>\n",
              "      <th>Ano</th>\n",
              "    </tr>\n",
              "  </thead>\n",
              "  <tbody>\n",
              "    <tr>\n",
              "      <th>0</th>\n",
              "      <td>Flamengo</td>\n",
              "      <td>Rio de Janeiro</td>\n",
              "      <td>950.0</td>\n",
              "      <td>2019-01-01</td>\n",
              "    </tr>\n",
              "    <tr>\n",
              "      <th>9</th>\n",
              "      <td>Fluminense</td>\n",
              "      <td>Rio de Janeiro</td>\n",
              "      <td>265.2</td>\n",
              "      <td>2019-01-01</td>\n",
              "    </tr>\n",
              "    <tr>\n",
              "      <th>10</th>\n",
              "      <td>Vasco</td>\n",
              "      <td>Rio de Janeiro</td>\n",
              "      <td>215.3</td>\n",
              "      <td>2019-01-01</td>\n",
              "    </tr>\n",
              "    <tr>\n",
              "      <th>11</th>\n",
              "      <td>Botafogo</td>\n",
              "      <td>Rio de Janeiro</td>\n",
              "      <td>191.3</td>\n",
              "      <td>2019-01-01</td>\n",
              "    </tr>\n",
              "  </tbody>\n",
              "</table>\n",
              "</div>"
            ],
            "text/plain": [
              "         Clube          Estado  Faturamento        Ano\n",
              "0     Flamengo  Rio de Janeiro        950.0 2019-01-01\n",
              "9   Fluminense  Rio de Janeiro        265.2 2019-01-01\n",
              "10       Vasco  Rio de Janeiro        215.3 2019-01-01\n",
              "11    Botafogo  Rio de Janeiro        191.3 2019-01-01"
            ]
          },
          "metadata": {
            "tags": []
          },
          "execution_count": 25
        }
      ]
    },
    {
      "cell_type": "code",
      "metadata": {
        "id": "9hBrc3X4KIvx",
        "outputId": "0befdb8a-7678-4118-bacc-2badd1f602d9",
        "colab": {
          "base_uri": "https://localhost:8080/",
          "height": 204
        }
      },
      "source": [
        "flamengo = rj_df[rj_df.Clube == 'Flamengo']\n",
        "flamengo.head()"
      ],
      "execution_count": 26,
      "outputs": [
        {
          "output_type": "execute_result",
          "data": {
            "text/html": [
              "<div>\n",
              "<style scoped>\n",
              "    .dataframe tbody tr th:only-of-type {\n",
              "        vertical-align: middle;\n",
              "    }\n",
              "\n",
              "    .dataframe tbody tr th {\n",
              "        vertical-align: top;\n",
              "    }\n",
              "\n",
              "    .dataframe thead th {\n",
              "        text-align: right;\n",
              "    }\n",
              "</style>\n",
              "<table border=\"1\" class=\"dataframe\">\n",
              "  <thead>\n",
              "    <tr style=\"text-align: right;\">\n",
              "      <th></th>\n",
              "      <th>Clube</th>\n",
              "      <th>Estado</th>\n",
              "      <th>Faturamento</th>\n",
              "      <th>Ano</th>\n",
              "    </tr>\n",
              "  </thead>\n",
              "  <tbody>\n",
              "    <tr>\n",
              "      <th>0</th>\n",
              "      <td>Flamengo</td>\n",
              "      <td>Rio de Janeiro</td>\n",
              "      <td>950.0</td>\n",
              "      <td>2019-01-01</td>\n",
              "    </tr>\n",
              "    <tr>\n",
              "      <th>13</th>\n",
              "      <td>Flamengo</td>\n",
              "      <td>Rio de Janeiro</td>\n",
              "      <td>543.0</td>\n",
              "      <td>2018-01-01</td>\n",
              "    </tr>\n",
              "    <tr>\n",
              "      <th>24</th>\n",
              "      <td>Flamengo</td>\n",
              "      <td>Rio de Janeiro</td>\n",
              "      <td>648.7</td>\n",
              "      <td>2017-01-01</td>\n",
              "    </tr>\n",
              "    <tr>\n",
              "      <th>36</th>\n",
              "      <td>Flamengo</td>\n",
              "      <td>Rio de Janeiro</td>\n",
              "      <td>510.0</td>\n",
              "      <td>2016-01-01</td>\n",
              "    </tr>\n",
              "    <tr>\n",
              "      <th>49</th>\n",
              "      <td>Flamengo</td>\n",
              "      <td>Rio de Janeiro</td>\n",
              "      <td>356.2</td>\n",
              "      <td>2015-01-01</td>\n",
              "    </tr>\n",
              "  </tbody>\n",
              "</table>\n",
              "</div>"
            ],
            "text/plain": [
              "       Clube          Estado  Faturamento        Ano\n",
              "0   Flamengo  Rio de Janeiro        950.0 2019-01-01\n",
              "13  Flamengo  Rio de Janeiro        543.0 2018-01-01\n",
              "24  Flamengo  Rio de Janeiro        648.7 2017-01-01\n",
              "36  Flamengo  Rio de Janeiro        510.0 2016-01-01\n",
              "49  Flamengo  Rio de Janeiro        356.2 2015-01-01"
            ]
          },
          "metadata": {
            "tags": []
          },
          "execution_count": 26
        }
      ]
    },
    {
      "cell_type": "code",
      "metadata": {
        "id": "QDv3TS7gEFH0",
        "outputId": "135ee6da-c5da-4df5-aae7-7c0e1332d881",
        "colab": {
          "base_uri": "https://localhost:8080/",
          "height": 452
        }
      },
      "source": [
        "''' Solution inspired by:\n",
        "https://stackoverflow.com/questions/54742352/pandas-aggregate-data-other-than-a-specific-value-in-specific-column\n",
        "but not quite '''\n",
        "# the next two lines are used to filter all the clubs which are not Flamengo\n",
        "mask = rj_df['Clube'] == 'Flamengo'\n",
        "others = rj_df[~mask]\n",
        "others = others.groupby('Ano', as_index=False).agg({'Faturamento': 'sum'})\n",
        "others['Clube'] = \"Outros 3 juntos\"\n",
        "others['Estado'] = 'Rio de Janeiro'\n",
        "others"
      ],
      "execution_count": 27,
      "outputs": [
        {
          "output_type": "execute_result",
          "data": {
            "text/html": [
              "<div>\n",
              "<style scoped>\n",
              "    .dataframe tbody tr th:only-of-type {\n",
              "        vertical-align: middle;\n",
              "    }\n",
              "\n",
              "    .dataframe tbody tr th {\n",
              "        vertical-align: top;\n",
              "    }\n",
              "\n",
              "    .dataframe thead th {\n",
              "        text-align: right;\n",
              "    }\n",
              "</style>\n",
              "<table border=\"1\" class=\"dataframe\">\n",
              "  <thead>\n",
              "    <tr style=\"text-align: right;\">\n",
              "      <th></th>\n",
              "      <th>Ano</th>\n",
              "      <th>Faturamento</th>\n",
              "      <th>Clube</th>\n",
              "      <th>Estado</th>\n",
              "    </tr>\n",
              "  </thead>\n",
              "  <tbody>\n",
              "    <tr>\n",
              "      <th>0</th>\n",
              "      <td>2007-01-01</td>\n",
              "      <td>131.4</td>\n",
              "      <td>Outros 3 juntos</td>\n",
              "      <td>Rio de Janeiro</td>\n",
              "    </tr>\n",
              "    <tr>\n",
              "      <th>1</th>\n",
              "      <td>2008-01-01</td>\n",
              "      <td>169.9</td>\n",
              "      <td>Outros 3 juntos</td>\n",
              "      <td>Rio de Janeiro</td>\n",
              "    </tr>\n",
              "    <tr>\n",
              "      <th>2</th>\n",
              "      <td>2009-01-01</td>\n",
              "      <td>191.8</td>\n",
              "      <td>Outros 3 juntos</td>\n",
              "      <td>Rio de Janeiro</td>\n",
              "    </tr>\n",
              "    <tr>\n",
              "      <th>3</th>\n",
              "      <td>2010-01-01</td>\n",
              "      <td>212.9</td>\n",
              "      <td>Outros 3 juntos</td>\n",
              "      <td>Rio de Janeiro</td>\n",
              "    </tr>\n",
              "    <tr>\n",
              "      <th>4</th>\n",
              "      <td>2011-01-01</td>\n",
              "      <td>276.2</td>\n",
              "      <td>Outros 3 juntos</td>\n",
              "      <td>Rio de Janeiro</td>\n",
              "    </tr>\n",
              "    <tr>\n",
              "      <th>5</th>\n",
              "      <td>2012-01-01</td>\n",
              "      <td>420.2</td>\n",
              "      <td>Outros 3 juntos</td>\n",
              "      <td>Rio de Janeiro</td>\n",
              "    </tr>\n",
              "    <tr>\n",
              "      <th>6</th>\n",
              "      <td>2013-01-01</td>\n",
              "      <td>438.9</td>\n",
              "      <td>Outros 3 juntos</td>\n",
              "      <td>Rio de Janeiro</td>\n",
              "    </tr>\n",
              "    <tr>\n",
              "      <th>7</th>\n",
              "      <td>2014-01-01</td>\n",
              "      <td>414.9</td>\n",
              "      <td>Outros 3 juntos</td>\n",
              "      <td>Rio de Janeiro</td>\n",
              "    </tr>\n",
              "    <tr>\n",
              "      <th>8</th>\n",
              "      <td>2015-01-01</td>\n",
              "      <td>483.8</td>\n",
              "      <td>Outros 3 juntos</td>\n",
              "      <td>Rio de Janeiro</td>\n",
              "    </tr>\n",
              "    <tr>\n",
              "      <th>9</th>\n",
              "      <td>2016-01-01</td>\n",
              "      <td>662.6</td>\n",
              "      <td>Outros 3 juntos</td>\n",
              "      <td>Rio de Janeiro</td>\n",
              "    </tr>\n",
              "    <tr>\n",
              "      <th>10</th>\n",
              "      <td>2017-01-01</td>\n",
              "      <td>688.2</td>\n",
              "      <td>Outros 3 juntos</td>\n",
              "      <td>Rio de Janeiro</td>\n",
              "    </tr>\n",
              "    <tr>\n",
              "      <th>11</th>\n",
              "      <td>2018-01-01</td>\n",
              "      <td>741.1</td>\n",
              "      <td>Outros 3 juntos</td>\n",
              "      <td>Rio de Janeiro</td>\n",
              "    </tr>\n",
              "    <tr>\n",
              "      <th>12</th>\n",
              "      <td>2019-01-01</td>\n",
              "      <td>671.8</td>\n",
              "      <td>Outros 3 juntos</td>\n",
              "      <td>Rio de Janeiro</td>\n",
              "    </tr>\n",
              "  </tbody>\n",
              "</table>\n",
              "</div>"
            ],
            "text/plain": [
              "          Ano  Faturamento            Clube          Estado\n",
              "0  2007-01-01        131.4  Outros 3 juntos  Rio de Janeiro\n",
              "1  2008-01-01        169.9  Outros 3 juntos  Rio de Janeiro\n",
              "2  2009-01-01        191.8  Outros 3 juntos  Rio de Janeiro\n",
              "3  2010-01-01        212.9  Outros 3 juntos  Rio de Janeiro\n",
              "4  2011-01-01        276.2  Outros 3 juntos  Rio de Janeiro\n",
              "5  2012-01-01        420.2  Outros 3 juntos  Rio de Janeiro\n",
              "6  2013-01-01        438.9  Outros 3 juntos  Rio de Janeiro\n",
              "7  2014-01-01        414.9  Outros 3 juntos  Rio de Janeiro\n",
              "8  2015-01-01        483.8  Outros 3 juntos  Rio de Janeiro\n",
              "9  2016-01-01        662.6  Outros 3 juntos  Rio de Janeiro\n",
              "10 2017-01-01        688.2  Outros 3 juntos  Rio de Janeiro\n",
              "11 2018-01-01        741.1  Outros 3 juntos  Rio de Janeiro\n",
              "12 2019-01-01        671.8  Outros 3 juntos  Rio de Janeiro"
            ]
          },
          "metadata": {
            "tags": []
          },
          "execution_count": 27
        }
      ]
    },
    {
      "cell_type": "code",
      "metadata": {
        "id": "mx6UoXb3J95e"
      },
      "source": [
        "fla_x_others = flamengo.append(others)"
      ],
      "execution_count": 28,
      "outputs": []
    },
    {
      "cell_type": "code",
      "metadata": {
        "id": "nyjqnVkQs3wQ"
      },
      "source": [
        "import seaborn as sns\n",
        "import matplotlib.pyplot as plt\n",
        "\n",
        "COLOR = 'dimgrey'\n",
        "line_width = 3.0"
      ],
      "execution_count": 80,
      "outputs": []
    },
    {
      "cell_type": "code",
      "metadata": {
        "id": "UkFJ8NO5MZrc",
        "outputId": "74e50192-f9b7-409f-a6ea-4a765c8b00e9",
        "colab": {
          "base_uri": "https://localhost:8080/",
          "height": 513
        }
      },
      "source": [
        "plt.figure(figsize=(12, 8))\n",
        "g = sns.lineplot(data=rj_df, x='Ano', y='Faturamento', hue='Clube', palette=['red', 'green', 'black', 'blue'], linewidth=line_width)\n",
        "plt.box(False)\n",
        "plt.title(\"Major Rio de Janeiro teams revenues (2007-2019)\", color=COLOR)\n",
        "legend = plt.legend(title=None, loc='upper left')\n",
        "plt.setp(legend.get_texts(), color=COLOR)\n",
        "g.tick_params(left=False, bottom=False, colors=COLOR)\n",
        "g.set_ylabel('Revenue in Millions', color=COLOR)\n",
        "g.set_xlabel('Year', color=COLOR);"
      ],
      "execution_count": 95,
      "outputs": [
        {
          "output_type": "display_data",
          "data": {
            "image/png": "[encoded data removed]",
            "text/plain": [
              "<Figure size 864x576 with 1 Axes>"
            ]
          },
          "metadata": {
            "tags": [],
            "needs_background": "light"
          }
        }
      ]
    },
    {
      "cell_type": "code",
      "metadata": {
        "id": "WnfIsX8wCeG6",
        "outputId": "7c18003e-4234-44ef-f39a-a13515d25867",
        "colab": {
          "base_uri": "https://localhost:8080/",
          "height": 513
        }
      },
      "source": [
        "plt.figure(figsize=(12, 8))\n",
        "g = sns.lineplot(data=fla_x_others, x='Ano', y='Faturamento', hue='Clube', palette=['red', 'grey'], linewidth=line_width)\n",
        "plt.box(False)\n",
        "plt.title(\"Flamengo x other 3 combined (2007-2019)\", color=COLOR);\n",
        "legend = plt.legend(title='', loc='upper left', labels=['Flamengo', 'Fluminense, Vasco and Botafogo']);\n",
        "plt.setp(legend.get_texts(), color=COLOR)\n",
        "g.tick_params(left=False, bottom=False, colors=COLOR)\n",
        "g.set_ylabel('Revenue in Millions', color=COLOR)\n",
        "g.set_xlabel('Year', color=COLOR);"
      ],
      "execution_count": 96,
      "outputs": [
        {
          "output_type": "display_data",
          "data": {
            "image/png": "[encoded data removed]",
            "text/plain": [
              "<Figure size 864x576 with 1 Axes>"
            ]
          },
          "metadata": {
            "tags": [],
            "needs_background": "light"
          }
        }
      ]
    },
    {
      "cell_type": "code",
      "metadata": {
        "id": "fcapRiizCg-J",
        "outputId": "a7e3d335-df0c-477b-b305-395b65257c75",
        "colab": {
          "base_uri": "https://localhost:8080/",
          "height": 404
        }
      },
      "source": [
        "plt.figure(figsize=(18, 6))\n",
        "\n",
        "plt.subplot(121)\n",
        "g = sns.lineplot(data=rj_df, x='Ano', y='Faturamento', hue='Clube', palette=['red', 'green', 'black', 'blue'], linewidth=line_width)\n",
        "plt.box(False)\n",
        "plt.title(\"Major Rio de Janeiro teams revenues (2007-2019)\", color=COLOR)\n",
        "legend = plt.legend(title=None, loc='upper left')\n",
        "plt.setp(legend.get_texts(), color=COLOR)\n",
        "g.tick_params(left=False, bottom=False, colors=COLOR)\n",
        "g.set_ylabel('Revenue in Millions', color=COLOR)\n",
        "g.set_xlabel('Year', color=COLOR);\n",
        "\n",
        "plt.subplot(122)\n",
        "g = sns.lineplot(data=fla_x_others, x='Ano', y='Faturamento', hue='Clube', palette=['red', 'grey'], linewidth=line_width)\n",
        "plt.box(False)\n",
        "plt.title(\"Flamengo x other 3 combined (2007-2019)\", color=COLOR);\n",
        "legend = plt.legend(title='', loc='upper left', labels=['Flamengo', 'Fluminense, Vasco and Botafogo']);\n",
        "plt.setp(legend.get_texts(), color=COLOR)\n",
        "g.tick_params(left=False, bottom=False, colors=COLOR)\n",
        "g.set_ylabel('Revenue in Millions', color=COLOR)\n",
        "g.set_xlabel('Year', color=COLOR);"
      ],
      "execution_count": 94,
      "outputs": [
        {
          "output_type": "display_data",
          "data": {
            "image/png": "[encoded data removed]",
            "text/plain": [
              "<Figure size 1296x432 with 2 Axes>"
            ]
          },
          "metadata": {
            "tags": [],
            "needs_background": "light"
          }
        }
      ]
    },
    {
      "cell_type": "code",
      "metadata": {
        "id": "AhPVS2r-OIvo"
      },
      "source": [
        ""
      ],
      "execution_count": 32,
      "outputs": []
    }
  ]
}